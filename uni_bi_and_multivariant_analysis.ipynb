{
 "cells": [
  {
   "cell_type": "markdown",
   "metadata": {},
   "source": [
    "# Shifting Streams: Functional Responses of Macroinvertebrates to Rural and Urban Pressures in Argentina\n",
    "\n",
    "**María Cecilia Crettaz Minaglia¹*, María Cecilia Claps², María del Pilar Juárez³**\n",
    "\n",
    "¹ Instituto de Investigaciones Científicas y Técnicas para la Agricultura y la Ganadería (INTA-CONICET), Argentina  \n",
    "² Universidad Nacional del Sur, Bahía Blanca, Argentina  \n",
    "³ Universidad Nacional de La Plata, Facultad de Ciencias Naturales y Museo, Argentina  \n",
    "\n",
    "*Corresponding author: mccrettaz@gmail.com*"
   ]
  },
  {
   "cell_type": "markdown",
   "metadata": {},
   "source": [
    "## 1. Load Libraries"
   ]
  },
  {
   "cell_type": "markdown",
   "metadata": {
    "id": "lyDkUtuKN4P8"
   },
   "source": [
    "# **Land use effects on the macroinvertebrate communities and the secondary food webs in Neotropical streams of Argentinian Center-Eastern**\n",
    "\n",
    "## *Melina Celeste Crettaz-Minaglia , Diamela Gianello and Elizabeth Ávila-Hernández*\n",
    "\n",
    "### a Laboratory of Biological Indicators and Environmental Management of Water Quality (IBGA), Faculty of Science and Technology (FCyT), Autonomous University of Entre Ríos (UADER)\n",
    "\n",
    "### b Group of Ecology of the Aquatic Systems at Landscape Scale (GESAP, INIBIOMA, National University of Comahue (UNCOMA)\n",
    "\n",
    "### c National Council of Scientific and Technical Researches (CONICET)\n",
    "\n",
    "\n",
    "###Corresponding author. E-mail: crettaz.melina@uader.edu.ar (MCCM)\n"
   ]
  },
  {
   "cell_type": "markdown",
   "metadata": {},
   "source": [
    "## 2. Import Dataset"
   ]
  },
  {
   "cell_type": "markdown",
   "metadata": {
    "id": "JCd6B--jJzhA"
   },
   "source": [
    "## *Required packages*"
   ]
  },
  {
   "cell_type": "markdown",
   "metadata": {},
   "source": [
    "## 3. Exploratory Data Analysis"
   ]
  },
  {
   "cell_type": "code",
   "execution_count": null,
   "metadata": {
    "id": "5bT8qQXPJLFy"
   },
   "outputs": [],
   "source": [
    "# Install required packages (if not already installed)\n",
    "# Instalar los paquetes necesarios (si no están instalados)\n",
    "#install.packages(\"ggplot2\")\n",
    "#install.packages(\"tidyverse\")\n",
    "#install.packages(\"pwr\")\n",
    "#install.packages(\"ggpubr\")\n",
    "#install.packages(\"permute\")\n",
    "#install.packages(\"lattice\")\n",
    "#install.packages(\"ggrepel\")\n",
    "#install.packages(\"vegan\")\n",
    "#install.packages(\"FactoMineR\")\n",
    "#install.packages(\"factoextra\")\n",
    "#install.packages(\"dendextend\")"
   ]
  },
  {
   "cell_type": "markdown",
   "metadata": {},
   "source": [
    "## 4. Univariate Analyses"
   ]
  },
  {
   "cell_type": "code",
   "execution_count": null,
   "metadata": {
    "id": "ZejBtzF3ZYE9"
   },
   "outputs": [],
   "source": [
    "# Load libraries for analysis\n",
    "# Cargar librerías para el análisis\n",
    "require(ggplot2)\n",
    "require(tidyverse)\n",
    "require(pwr)\n",
    "require(ggpubr)\n",
    "require(permute)\n",
    "require(lattice)\n",
    "require(ggrepel)\n",
    "require(vegan)\n",
    "require(FactoMineR)\n",
    "require(factoextra)\n",
    "require(dendextend)"
   ]
  },
  {
   "cell_type": "markdown",
   "metadata": {},
   "source": [
    "## 5. Multivariate Analyses"
   ]
  },
  {
   "cell_type": "markdown",
   "metadata": {
    "id": "2ikx3m-nKh4H"
   },
   "source": [
    "## *Univariate analysis*\n",
    "###Boxplot: richness and abundance per area for each stream. This analysis corresponds to **Figure 2** of the manuscript."
   ]
  },
  {
   "cell_type": "markdown",
   "metadata": {},
   "source": [
    "## 6. PERMANOVA and Clustering"
   ]
  },
  {
   "cell_type": "code",
   "execution_count": null,
   "metadata": {
    "id": "O6gm02wz7fc4"
   },
   "outputs": [],
   "source": [
    "# Set working directory and import dataset\n",
    "# Definir el directorio de trabajo e importar el conjunto de datos\n",
    "riq_ab<- read.csv(\"https://docs.google.com/spreadsheets/d/e/2PACX-1vSZuTAHeOBvLUd84lJmoiveOLm3YopCWvJAVyrk7imIOfddul_yTEiMx5FXYuvCow/pub?gid=296864564&single=true&output=csv\",\n",
    "          header=TRUE, sep=\",\", encoding = \"Unicode\", dec = \",\")\n",
    "\n",
    "riq_ab$stream <- factor(riq_ab$stream, levels = c(\"SBS\",\"LPS\",\"LCS\",\"GAS\",\"ECS\",\"LCAS\",\"EZS\",\"EMS\"))\n",
    "\n",
    "riq_ab$abundance <- as.integer(riq_ab$abundance)"
   ]
  },
  {
   "cell_type": "markdown",
   "metadata": {},
   "source": [
    "## 7. Visualizations and Export"
   ]
  },
  {
   "cell_type": "code",
   "execution_count": null,
   "metadata": {
    "id": "jYFfO1ac7rUe"
   },
   "outputs": [],
   "source": [
    "# Check the structure of the dataset\n",
    "# Revisar la estructura del conjunto de datos\n",
    "riqueza <- ggplot(data=riq_ab,aes(x=stream, y=richness, color=stream, fill=stream)) +\n",
    "  geom_boxplot(outlier.colour = \"black\",outlier.alpha = 0.5,\n",
    "               fill=c(\"green4\",\"green4\",\"green4\",\"green4\",\"orange\",\"orange\",\"red\",\"red\"),\n",
    "               colour=c(\"green4\",\"green4\",\"green4\",\"green4\",\"orange\",\"orange\",\"red\",\"red\"),\n",
    "               alpha = c(0.5,0.5,0.5,0.5,0.5,0.5,0.5,0.5))+\n",
    "  geom_jitter(width=0.15, alpha=0.5, colour=\"black\")+\n",
    "  labs(y= \"Richness\")+\n",
    "  theme(legend.position = \"none\") +scale_y_continuous(limit = c(0,35))+\n",
    "  theme(axis.title.x=element_blank())+\n",
    "  theme(axis.ticks.x=element_blank())+\n",
    "  theme(panel.grid.major = element_blank(),\n",
    "        panel.grid.minor = element_blank(),\n",
    "        panel.background = element_blank(),\n",
    "        axis.line = element_line(colour = \"black\"))"
   ]
  },
  {
   "cell_type": "markdown",
   "metadata": {},
   "source": [
    "## 8. Summary"
   ]
  },
  {
   "cell_type": "code",
   "execution_count": null,
   "metadata": {
    "id": "2Q686GMWLi8q"
   },
   "outputs": [],
   "source": [
    "# Perform exploratory data analysis\n",
    "# Realizar análisis exploratorio de datos\n",
    "abundancia <- ggplot(data=riq_ab,aes(x=stream, y=abundance, color=stream, fill=stream)) +\n",
    "  geom_boxplot(outlier.colour = \"black\",outlier.alpha = 0.5,\n",
    "               fill=c(\"green4\",\"green4\",\"green4\",\"green4\",\"orange\",\"orange\",\"red\",\"red\"),\n",
    "               colour=c(\"green4\",\"green4\",\"green4\",\"green4\",\"orange\",\"orange\",\"red\",\"red\"),\n",
    "               alpha = c(0.5,0.5,0.5,0.5,0.5,0.5,0.5,0.5))+\n",
    "  geom_jitter(width=0.15, alpha=0.5, colour=\"black\")+\n",
    "  labs(y=bquote('Abundance'~(ind/m^2)))+\n",
    "  theme(legend.position = \"none\") +scale_y_continuous(limit = c(0,4000))+\n",
    "  theme(axis.title.x=element_blank())+\n",
    "  theme(axis.ticks.x=element_blank())+\n",
    "  theme(panel.grid.major = element_blank(),\n",
    "        panel.grid.minor = element_blank(),\n",
    "        panel.background = element_blank(),\n",
    "        axis.line = element_line(colour = \"black\"))"
   ]
  },
  {
   "cell_type": "code",
   "execution_count": null,
   "metadata": {
    "id": "adrJwWLv7wy8"
   },
   "outputs": [],
   "source": [
    "# Visualize distributions and relationships\n",
    "# Visualizar distribuciones y relaciones\n",
    "riq_abund<-ggpubr::ggarrange(riqueza, abundancia, labels = c(\"A\", \"B\"),ncol = 2, nrow=1)\n",
    "riq_abund\n",
    "#ggsave(filename = \"riq_abund.png\", plot =riq_abund, width = 24, height = 12, dpi = 600, units = \"cm\")"
   ]
  },
  {
   "cell_type": "markdown",
   "metadata": {
    "id": "sjxKr_E6K3A7"
   },
   "source": [
    "#Multivariate analysis\n",
    "## Non-Metric Multidimensional Scaling (NM-DS). This analysis corresponds to **Figure 4** of the manuscript.\n"
   ]
  },
  {
   "cell_type": "code",
   "execution_count": null,
   "metadata": {
    "id": "TjGYp-rMpj1w"
   },
   "outputs": [],
   "source": [
    "# Conduct univariate statistical tests\n",
    "# Realizar pruebas estadísticas univariadas\n",
    "# Data input, nmds total abundances per m2\n",
    "data <-read.csv(\"https://docs.google.com/spreadsheets/d/e/2PACX-1vSZuTAHeOBvLUd84lJmoiveOLm3YopCWvJAVyrk7imIOfddul_yTEiMx5FXYuvCow/pub?gid=591596968&single=true&output=csv\",\n",
    "                header=TRUE, sep=\",\", encoding = \"Unicode\", dec = \",\")"
   ]
  },
  {
   "cell_type": "code",
   "execution_count": null,
   "metadata": {
    "id": "iEuH5_-P6qp6"
   },
   "outputs": [],
   "source": [
    "# Prepare data for multivariate analysis\n",
    "# Preparar los datos para el análisis multivariado\n",
    "#data selection\n",
    "spp<-data[,5:76]\n",
    "env<-data[,1:4]\n",
    "rownames <- data[,1]"
   ]
  },
  {
   "cell_type": "code",
   "execution_count": null,
   "metadata": {
    "id": "DNHNVJUB61Q5"
   },
   "outputs": [],
   "source": [
    "# Perform PCA or NMDS\n",
    "# Realizar PCA o NMDS\n",
    "#NMDS\n",
    "nmds <- metaMDS (log1p (spp), distance = 'bray', scaling = 1)\n",
    "plot(nmds, main = 'NMDS', type = 'n', display = 'si')\n",
    "points (nmds, display = 'si', col = env$group, pch = env$group)\n",
    "legend ('bottomleft', pch = 1:3, col = 1:3, legend = 1:3, title = '', cex = 0.6)"
   ]
  },
  {
   "cell_type": "code",
   "execution_count": null,
   "metadata": {
    "id": "GgAfQe_4-Qm3"
   },
   "outputs": [],
   "source": [
    "# Visualize multivariate results\n",
    "# Visualizar los resultados multivariados\n",
    "### Graphics with NMDS data as input\n",
    "stressplot(nmds)\n",
    "nmds\n",
    "plot(nmds, type=\"t\")\n",
    "ordiplot(nmds,type=\"n\")\n",
    "orditorp(nmds,display=\"species\",col=\"blue\",air=0.01)\n",
    "orditorp(nmds,display=\"sites\",cex=1.2,air=0.01)"
   ]
  },
  {
   "cell_type": "code",
   "execution_count": null,
   "metadata": {
    "id": "5IyY8L-y-XiN"
   },
   "outputs": [],
   "source": [
    "# Run PERMANOVA test\n",
    "# Ejecutar la prueba PERMANOVA\n",
    "##### In GGPLOT2\n",
    "data.scores <- as.data.frame(scores(nmds))  #Using the scores function from vegan to extract the site scores and convert to a data.frame\n",
    "data.scores$site <- data$stream  # create a column of site names, from the rownames of data.scores\n",
    "data.scores$grp <- data$class #  add the grp variable created earlier\n",
    "head(data.scores)  #look at the data\n",
    "data.scores$grp1<-data$g\n",
    "\n",
    "species.scores <- as.data.frame(scores(nmds, \"species\"))  #Using the scores function from vegan to extract the species scores and convert to a data.frame\n",
    "species.scores$species <- rownames(species.scores)  # create a column of species, from the rownames of species.scores\n",
    "head(species.scores)\n",
    "\n",
    "grp.a <- data.scores[data.scores$grp1 == \"A\", ][chull(data.scores[data.scores$grp1 ==\n",
    "                                                                   \"A\", c(\"NMDS1\", \"NMDS2\")]), ]  # hull values for grp A\n",
    "grp.b <- data.scores[data.scores$grp1 == \"B\", ][chull(data.scores[data.scores$grp1 ==\n",
    "                                                                   \"B\", c(\"NMDS1\", \"NMDS2\")]), ]  # hull values for grp B\n",
    "\n",
    "hull.data <- rbind(grp.a, grp.b)  #combine grp.a and grp.b\n",
    "hull.data\n",
    "\n",
    "data.scores$grp<-factor(data.scores$grp, levels = c(\"Rural\",\"Peri urban\",\"Urban\"))\n",
    "\n",
    "plot_nmds<-ggplot() +\n",
    "  geom_polygon(data=hull.data,aes(x=NMDS1,y=NMDS2,fill=grp1,group=grp1),alpha=0.30)+\n",
    "    geom_point(data=data.scores,aes(x=NMDS1,y=NMDS2,shape=grp,colour=grp),size=4, check_overlap = TRUE)+ # add the point markers\n",
    "  geom_text(data=species.scores,aes(x=NMDS1,y=NMDS2,label=species),alpha=0.3,size=2,check_overlap = TRUE) +  # add the species labels\n",
    "   scale_colour_manual(values=c(\"Rural\" = \"darkgreen\", \"Peri urban\" = \"darkorange1\",\"Urban\"=\"orangered3\"))+\n",
    "  coord_equal() +\n",
    "  theme_bw() +\n",
    "  geom_text(data=data.scores,aes(x=NMDS1,y=NMDS2,label=site),size=3,vjust=c(-0,-0,-0,-0,-1.5,-1.5,1.7,1.7),hjust=c(-0.3,-0.3,-0.3,-0.3,0.9,-0.2,0.9,-0.2)) +  # add the site labels\n",
    "  theme(axis.text.x = element_blank(),  # remove x-axis text\n",
    " axis.text.y = element_blank(), # remove y-axis text\n",
    "        axis.ticks = element_blank(),  # remove axis ticks\n",
    "        axis.title.x = element_text(size=15), # remove x-axis labels\n",
    "        axis.title.y = element_text(size=15), # remove y-axis labels\n",
    "        panel.background = element_blank(),\n",
    "        panel.grid.major = element_blank(),  #remove major-grid labels\n",
    "        panel.grid.minor = element_blank())+ #remove minor-grid labels\n",
    "  theme(legend.title = element_blank())\n",
    "plot_nmds\n",
    "\n",
    "ggsave(filename = \"nmds.png\", plot =plot_nmds, width = 8, height = 4, dpi = 300, units = \"in\", pointsize=11)"
   ]
  },
  {
   "cell_type": "code",
   "execution_count": null,
   "metadata": {
    "id": "-OvKIcsoNBqb"
   },
   "outputs": [],
   "source": [
    "# Conduct clustering or dendrogram analysis\n",
    "# Realizar análisis de agrupamiento o dendrograma\n",
    "sp=as.data.frame(nmds$species[,1:2])*2\n",
    "st=as.data.frame(nmds$points[,1:2])\n",
    "grp=as.data.frame(data$stream)\n",
    "grp1=as.data.frame(data$class)\n",
    "colnames(grp)=\"group\"\n",
    "colnames(grp1)=\"group1\"\n",
    "\n",
    "grp$group<- factor(grp$group, levels = c(\"SBS\",\"LPS\",\"LCS\",\"GAS\",\"ECS\",\"LCAS\",\"EZS\",\"EMS\"))\n",
    "grp1$group1<- factor(grp1$group1, levels = c(\"Rural\",\"Peri urban\",\"Urban\"))\n",
    "\n",
    "\n",
    "\n",
    "plot_nmds<-ggplot() +\n",
    "  geom_point(data = st,aes(MDS1,MDS2,color=grp1$group1,shape=grp1$group1),size=5,alpha=c(0.8,0.8,0.8,0.8,0.8,0.8,0.5,0.5))+\n",
    "  scale_colour_manual(values=c(\"Rural\" = \"green4\",\"Peri urban\"=\"orange\",\"Urban\"=\"red\"))+\n",
    "  scale_fill_manual(values=alpha(c(\"Rural\" = \"green4\",\"Peri urban\"=\"orange\",\"Urban\"=\"red\"),0.3))+\n",
    "  geom_text(data = sp,aes(MDS1,MDS2,label=row.names(sp)),size=4,check_overlap = TRUE, color=\"azure3\")+\n",
    "  geom_text(data=st,aes(x=MDS1,y=MDS2,label=data$stream),size=6,vjust=c(-0,-0,-0,-0,-1.5,-1.5,1.7,1.7),hjust=c(-0.3,-0.3,-0.3,-0.3,0.9,-0.2,0.9,-0.2)) +  # add the site labels\n",
    "  theme_bw()+theme(panel.grid=element_blank())+\n",
    "  xlab(\"NMDS1\") +\n",
    "  ylab(\"NMDS2\") +\n",
    "  theme(legend.title = element_blank())\n",
    "\n",
    "\n",
    "plot_nmds\n",
    "\n",
    "ggsave(filename = \"plot_nmds\", plot =plot_nmds, width = 12, height = 8, dpi = 300, units = \"in\", pointsize=11)\n"
   ]
  },
  {
   "cell_type": "markdown",
   "metadata": {
    "id": "_F0EzOglM9XD"
   },
   "source": [
    "## Multiple Correspondence Analysis (MCA). This analysis corresponds to **Figure 5** of the manuscript."
   ]
  },
  {
   "cell_type": "code",
   "execution_count": null,
   "metadata": {
    "id": "iOPXWoQ2q7aP"
   },
   "outputs": [],
   "source": [
    "# Export or save results\n",
    "# Exportar o guardar los resultados\n",
    "#data input, presences FFGs and substrate per stream\n",
    "ACM_streams <- read.csv(\"https://docs.google.com/spreadsheets/d/e/2PACX-1vSZuTAHeOBvLUd84lJmoiveOLm3YopCWvJAVyrk7imIOfddul_yTEiMx5FXYuvCow/pub?gid=802876722&single=true&output=csv\",\n",
    "                        header=TRUE, sep=\",\", encoding = \"Unicode\", dec = \",\")\n",
    "summary(ACM_streams)"
   ]
  },
  {
   "cell_type": "code",
   "execution_count": null,
   "metadata": {
    "id": "PiC_3Cvgrh_Y"
   },
   "outputs": [],
   "source": [
    "# Plot specific variables or traits\n",
    "# Graficar variables o atributos específicos\n",
    "#Convert to as factor\n",
    "ACM_streams$stream <- as.factor(ACM_streams$stream)\n",
    "ACM_streams$substrate <- as.factor(ACM_streams$substrate)\n",
    "ACM_streams$GC <- as.factor(ACM_streams$GC)\n",
    "ACM_streams$P <- as.factor(ACM_streams$P)\n",
    "ACM_streams$FC <- as.factor(ACM_streams$FC)\n",
    "ACM_streams$Sh <- as.factor(ACM_streams$Sh)\n",
    "ACM_streams$S <- as.factor(ACM_streams$S)\n",
    "summary(ACM_streams)"
   ]
  },
  {
   "cell_type": "code",
   "execution_count": null,
   "metadata": {
    "id": "i2RX8-9Sr44_"
   },
   "outputs": [],
   "source": [
    "# Calculate ecological indexes\n",
    "# Calcular índices ecológicos\n",
    "#Perform to MCA\n",
    "mca_streams<-MCA(ACM_streams)"
   ]
  },
  {
   "cell_type": "code",
   "execution_count": null,
   "metadata": {
    "id": "e5LE0PfRrnnA"
   },
   "outputs": [],
   "source": [
    "# Final checks and summary of results\n",
    "# Revisiones finales y resumen de resultados\n",
    "#improve to MCA\n",
    "p_mca <- fviz_mca_biplot(mca_streams,\n",
    "                col.ind = ACM_streams$stream, palette = \"jco\", alpha.ind = 1,\n",
    "                addEllipses = F, label = \"var\", cex= 2,\n",
    "                col.var = \"black\", repel = TRUE,\n",
    "                title=\"\",legend.title = \"Streams\") + theme_classic()\n",
    "p_mca <- p_mca + scale_color_manual(values=c(\"orange\",\"red\",\"red\",\"green4\",\"orange\",\"green4\",\"green4\",\"green4\"))\n",
    "p_mca\n",
    "ggsave(filename = \"mca.png\", plot =p_mca, width = 20, height = 18, dpi = 300, units = \"cm\", pointsize=11)"
   ]
  }
 ],
 "metadata": {
  "colab": {
   "provenance": []
  },
  "kernelspec": {
   "display_name": "R",
   "name": "ir"
  },
  "language_info": {
   "name": "R"
  }
 },
 "nbformat": 4,
 "nbformat_minor": 0
}
